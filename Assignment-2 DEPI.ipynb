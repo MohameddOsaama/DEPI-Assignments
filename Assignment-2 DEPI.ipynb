{
 "cells": [
  {
   "cell_type": "markdown",
   "metadata": {},
   "source": [
    "# Python Session 2 - Practical Exam"
   ]
  },
  {
   "cell_type": "markdown",
   "metadata": {},
   "source": [
    "# Part 1: Lists and List Slicing (20 points)"
   ]
  },
  {
   "cell_type": "markdown",
   "metadata": {},
   "source": [
    "1. (10 points) Create a list of 10 integers ranging from 1 to 20. Then, do the following:"
   ]
  },
  {
   "cell_type": "markdown",
   "metadata": {},
   "source": [
    "o Extract and print the first 5 elements of the list."
   ]
  },
  {
   "cell_type": "code",
   "execution_count": 7,
   "metadata": {},
   "outputs": [
    {
     "name": "stdout",
     "output_type": "stream",
     "text": [
      "[1, 3, 5, 7, 9]\n"
     ]
    }
   ],
   "source": [
    "integers_list = [ 1 , 3 , 5 , 7 , 9 , 11 , 13 , 15 , 17 , 19 ]\n",
    "print(integers_list[0:5])"
   ]
  },
  {
   "cell_type": "markdown",
   "metadata": {},
   "source": [
    "o Extract and print the last 3 elements using negative indexing."
   ]
  },
  {
   "cell_type": "code",
   "execution_count": 8,
   "metadata": {},
   "outputs": [
    {
     "name": "stdout",
     "output_type": "stream",
     "text": [
      "[15, 17, 19]\n"
     ]
    }
   ],
   "source": [
    "print(integers_list[-3:])"
   ]
  },
  {
   "cell_type": "markdown",
   "metadata": {},
   "source": [
    "o Extract and print all elements from index 3 to index 7."
   ]
  },
  {
   "cell_type": "code",
   "execution_count": 9,
   "metadata": {},
   "outputs": [
    {
     "name": "stdout",
     "output_type": "stream",
     "text": [
      "[7, 9, 11, 13, 15]\n"
     ]
    }
   ],
   "source": [
    "print(integers_list[3:8])"
   ]
  },
  {
   "cell_type": "markdown",
   "metadata": {},
   "source": [
    "2. (10 points) Write a Python program that:"
   ]
  },
  {
   "cell_type": "markdown",
   "metadata": {},
   "source": [
    "o Creates a list of 5 different fruits."
   ]
  },
  {
   "cell_type": "code",
   "execution_count": 17,
   "metadata": {},
   "outputs": [],
   "source": [
    "fruit_list = [ \"watermelon\" , \"Banana\" , \"Pineapple\" , \"Avocado\" , \"Peach\" ]"
   ]
  },
  {
   "cell_type": "markdown",
   "metadata": {},
   "source": [
    "o Add two more fruits to the list."
   ]
  },
  {
   "cell_type": "code",
   "execution_count": 18,
   "metadata": {},
   "outputs": [],
   "source": [
    "fruit_list.append (\"Pomegranate\")\n",
    "fruit_list.append (\"Kiwi\")"
   ]
  },
  {
   "cell_type": "markdown",
   "metadata": {},
   "source": [
    "o Remove the last fruit in the list."
   ]
  },
  {
   "cell_type": "code",
   "execution_count": 19,
   "metadata": {},
   "outputs": [
    {
     "data": {
      "text/plain": [
       "'Kiwi'"
      ]
     },
     "execution_count": 19,
     "metadata": {},
     "output_type": "execute_result"
    }
   ],
   "source": [
    "fruit_list.pop()"
   ]
  },
  {
   "cell_type": "markdown",
   "metadata": {},
   "source": [
    "o Print the updated list."
   ]
  },
  {
   "cell_type": "code",
   "execution_count": 20,
   "metadata": {},
   "outputs": [
    {
     "name": "stdout",
     "output_type": "stream",
     "text": [
      "['watermelon', 'Banana', 'Pineapple', 'Avocado', 'Peach', 'Pomegranate']\n"
     ]
    }
   ],
   "source": [
    "print(fruit_list)"
   ]
  },
  {
   "cell_type": "markdown",
   "metadata": {},
   "source": [
    "#  Part 2: Tuples and Dictionaries (30 points)"
   ]
  },
  {
   "cell_type": "markdown",
   "metadata": {},
   "source": [
    "3. (10 points)\n",
    "o Create a tuple that contains 5 different cities.\n",
    "\n",
    "o Access and print the second city in the tuple.\n",
    "\n",
    "o Try to change the value of the second city in the tuple and explain why it does \n",
    "not work.\n"
   ]
  },
  {
   "cell_type": "code",
   "execution_count": null,
   "metadata": {},
   "outputs": [
    {
     "name": "stdout",
     "output_type": "stream",
     "text": [
      "Tokyo\n"
     ]
    },
    {
     "ename": "TypeError",
     "evalue": "'tuple' object does not support item assignment",
     "output_type": "error",
     "traceback": [
      "\u001b[1;31m---------------------------------------------------------------------------\u001b[0m",
      "\u001b[1;31mTypeError\u001b[0m                                 Traceback (most recent call last)",
      "Cell \u001b[1;32mIn[23], line 8\u001b[0m\n\u001b[0;32m      5\u001b[0m \u001b[38;5;28mprint\u001b[39m(\u001b[38;5;28mtuple\u001b[39m[\u001b[38;5;241m1\u001b[39m])\n\u001b[0;32m      7\u001b[0m \u001b[38;5;66;03m#Try to change the value of the second city in the tuple and explain why it does not work.\u001b[39;00m\n\u001b[1;32m----> 8\u001b[0m \u001b[38;5;28;43mtuple\u001b[39;49m\u001b[43m[\u001b[49m\u001b[38;5;241;43m1\u001b[39;49m\u001b[43m]\u001b[49m \u001b[38;5;241m=\u001b[39m \u001b[38;5;124m\"\u001b[39m\u001b[38;5;124mSydney\u001b[39m\u001b[38;5;124m\"\u001b[39m \u001b[38;5;66;03m# it will not work because tuples are not mutaple so we can not change any element of it.\u001b[39;00m\n",
      "\u001b[1;31mTypeError\u001b[0m: 'tuple' object does not support item assignment"
     ]
    }
   ],
   "source": [
    "#Create a tuple that contains 5 different cities\n",
    "tuple = ( \"Mexico\" , \"Tokyo\" , \"Moscow\" , \"Delhi\" , \"Cairo\" )\n",
    "\n",
    "#Access and print the second city in the tuple.\n",
    "print(tuple[1])\n",
    "\n",
    "#Try to change the value of the second city in the tuple and explain why it does not work.\n",
    "tuple[1] = \"Sydney\" # it will not work because tuples are not mutable so we can not change any element of it."
   ]
  },
  {
   "cell_type": "markdown",
   "metadata": {},
   "source": [
    "4. (10 points) Write a Python program that creates a dictionary with the following keys and \n",
    "values:\n",
    "\n",
    "o 'name': 'John', 'age': 30, 'city': 'New York'. Then:\n",
    "\n",
    "o Print the value of the 'age' key.\n",
    "\n",
    "o Add a new key-value pair 'job': 'Engineer' to the dictionary.\n",
    "\n",
    "o Remove the 'city' key and print the updated dictionary."
   ]
  },
  {
   "cell_type": "code",
   "execution_count": 25,
   "metadata": {},
   "outputs": [
    {
     "name": "stdout",
     "output_type": "stream",
     "text": [
      "30\n",
      "{'name': 'john', 'age': 30, 'job': 'Engineer'}\n"
     ]
    }
   ],
   "source": [
    "informations = {'name':'john' , 'age':30 , 'city':'New York'}\n",
    "\n",
    "#Print the value of the 'age' key\n",
    "print(informations['age'])\n",
    "\n",
    "#Add a new key-value pair 'job': 'Engineer' to the dictionary.\n",
    "informations['job'] = 'Engineer'\n",
    "\n",
    "#Remove the 'city' key and print the updated dictionary.\n",
    "del informations ['city']\n",
    "print(informations)"
   ]
  },
  {
   "cell_type": "markdown",
   "metadata": {},
   "source": [
    "5. (10 points) Write a Python program that:\n",
    "\n",
    "o Creates a dictionary to store the names and ages of 3 people.\n",
    "\n",
    "o Print each person's name and their corresponding age using a loop"
   ]
  },
  {
   "cell_type": "code",
   "execution_count": 32,
   "metadata": {},
   "outputs": [
    {
     "name": "stdout",
     "output_type": "stream",
     "text": [
      "Mohamed is of age: 20\n",
      "Osama is of age: 30\n",
      "Ali is of age: 40\n"
     ]
    }
   ],
   "source": [
    "people_info = {'Mohamed':20 , 'Osama':30 , 'Ali':40}\n",
    "for name , age in people_info.items():\n",
    "    print(f'{name} is of age: {age}')"
   ]
  },
  {
   "cell_type": "markdown",
   "metadata": {},
   "source": [
    "# Part 3: Conditional Statements (30 points)"
   ]
  },
  {
   "cell_type": "markdown",
   "metadata": {},
   "source": [
    "6. (10 points) Write a Python program that takes the user's age as input and prints:\n",
    "\n",
    "o 'Adult' if the age is 18 or older.\n",
    "\n",
    "o 'Minor' if the age is less than 18."
   ]
  },
  {
   "cell_type": "code",
   "execution_count": 37,
   "metadata": {},
   "outputs": [
    {
     "name": "stdout",
     "output_type": "stream",
     "text": [
      "Adult\n"
     ]
    }
   ],
   "source": [
    "age = int(input(\"Enter your age: \"))\n",
    "if age >= 18 :\n",
    "    print(\"Adult\")\n",
    "else :\n",
    "    print(\"Minor\")"
   ]
  },
  {
   "cell_type": "markdown",
   "metadata": {},
   "source": [
    "7. (10 points) Write a Python program that checks if a number entered by the user is:\n",
    "\n",
    "o 'Even' if it is divisible by 2.\n",
    "\n",
    "o 'Odd' if it is not divisible by 2.\n",
    "\n",
    "You must use an if-else statement for this task.\n"
   ]
  },
  {
   "cell_type": "code",
   "execution_count": 44,
   "metadata": {},
   "outputs": [
    {
     "name": "stdout",
     "output_type": "stream",
     "text": [
      "Even\n"
     ]
    }
   ],
   "source": [
    "number = int(input(\"Enter a number: \"))\n",
    "if number % 2 == 0 :\n",
    "    print(\"Even\")\n",
    "else :\n",
    "    print(\"Odd\")"
   ]
  },
  {
   "cell_type": "markdown",
   "metadata": {},
   "source": [
    "8. (10 points) Write a Python program that:\n",
    "\n",
    "o Takes a score from the user and prints the grade based on the following criteria:\n",
    "\n",
    "▪ 90 and above: 'A'\n",
    "\n",
    "▪ 70-89: 'B'\n",
    "\n",
    "▪ 50-69: 'C'\n",
    "\n",
    "▪ Below 50: 'F'"
   ]
  },
  {
   "cell_type": "code",
   "execution_count": 48,
   "metadata": {},
   "outputs": [
    {
     "name": "stdout",
     "output_type": "stream",
     "text": [
      "Good your grade is C\n"
     ]
    }
   ],
   "source": [
    "score = int(input(\"Enter your score please: \"))\n",
    "if score >= 90 :\n",
    "    print(\"Congratulations! Your Grade is A\")\n",
    "elif score >= 70 :\n",
    "    print(\"V.good! your grade is B\")\n",
    "elif score >=50 :\n",
    "    print(\"Good your grade is C\")\n",
    "else:\n",
    "    print(\"Unfortunately your grade is F\")"
   ]
  },
  {
   "cell_type": "markdown",
   "metadata": {},
   "source": [
    "# Part 4: Loops (30 points)"
   ]
  },
  {
   "cell_type": "markdown",
   "metadata": {},
   "source": [
    "9. (10 points) Write a Python program that uses a for loop to print all even numbers \n",
    "between 1 and 20."
   ]
  },
  {
   "cell_type": "code",
   "execution_count": 51,
   "metadata": {},
   "outputs": [
    {
     "name": "stdout",
     "output_type": "stream",
     "text": [
      "2\n",
      "4\n",
      "6\n",
      "8\n",
      "10\n",
      "12\n",
      "14\n",
      "16\n",
      "18\n",
      "20\n"
     ]
    }
   ],
   "source": [
    "for i in range (2 , 21 , 2):\n",
    "    print(i)"
   ]
  },
  {
   "cell_type": "markdown",
   "metadata": {},
   "source": [
    "10. (10 points) Write a Python program that uses a while loop to print the numbers from 10 \n",
    "to 1, in descending order."
   ]
  },
  {
   "cell_type": "code",
   "execution_count": 53,
   "metadata": {},
   "outputs": [
    {
     "name": "stdout",
     "output_type": "stream",
     "text": [
      "10\n",
      "9\n",
      "8\n",
      "7\n",
      "6\n",
      "5\n",
      "4\n",
      "3\n",
      "2\n",
      "1\n"
     ]
    }
   ],
   "source": [
    "number = 10\n",
    "while number >= 1 :\n",
    "    print(number)\n",
    "    number = number - 1"
   ]
  },
  {
   "cell_type": "markdown",
   "metadata": {},
   "source": [
    "11. (10 points) Write a Python program that:\n",
    "\n",
    "• Asks the user to input a number.\n",
    "\n",
    "• Then, using a for loop, calculates the sum of all numbers from 1 to the entered number \n",
    "(inclusive) and prints the result."
   ]
  },
  {
   "cell_type": "code",
   "execution_count": null,
   "metadata": {},
   "outputs": [
    {
     "name": "stdout",
     "output_type": "stream",
     "text": [
      "2485\n"
     ]
    }
   ],
   "source": [
    "number = int(input(\"Enter a number: \"))\n",
    "summ = 0\n",
    "for i in range (1 , number + 1):\n",
    "    summ = summ + i \n",
    "print (summ)"
   ]
  },
  {
   "cell_type": "markdown",
   "metadata": {},
   "source": [
    "# Part 5: Input Function and User Interaction (20 points)"
   ]
  },
  {
   "cell_type": "markdown",
   "metadata": {},
   "source": [
    "12. (10 points) Write a Python program that asks the user for their name and age, then prints \n",
    "a message saying: \"Hello, [name]! You are [age] years old.\"\n"
   ]
  },
  {
   "cell_type": "code",
   "execution_count": 59,
   "metadata": {},
   "outputs": [
    {
     "name": "stdout",
     "output_type": "stream",
     "text": [
      "Hello,mohamed! You are 20 years old\n"
     ]
    }
   ],
   "source": [
    "name = str(input(\"Please Enter your name: \"))\n",
    "age = int(input(\"Please Enter your age: \"))\n",
    "print (f\"Hello,{name}! You are {age} years old\")"
   ]
  },
  {
   "cell_type": "markdown",
   "metadata": {},
   "source": [
    "13. (10 points) Write a Python program that asks the user for their favorite color and checks \n",
    "\n",
    "if it is 'blue'. If it is, print \"You have great taste!\",\n",
    "\n",
    " otherwise print \"That's a \n",
    "nice color too!"
   ]
  },
  {
   "cell_type": "code",
   "execution_count": 60,
   "metadata": {},
   "outputs": [
    {
     "name": "stdout",
     "output_type": "stream",
     "text": [
      "That's a nice color too!\n"
     ]
    }
   ],
   "source": [
    "fav_color = str(input(\"Please Enter your favorite color: \"))\n",
    "if fav_color == \"blue\" :\n",
    "    print(\"You have a great taste!\")\n",
    "else:\n",
    "    print(\"That's a nice color too!\")"
   ]
  },
  {
   "cell_type": "markdown",
   "metadata": {},
   "source": [
    "# Bonus Question (10 points)"
   ]
  },
  {
   "cell_type": "markdown",
   "metadata": {},
   "source": [
    "14. (10 points) Write a Python program that asks the user to enter a list of 5 numbers. \n",
    "Then:\n",
    "\n",
    "• Calculate and print the average of the numbers.\n",
    "\n",
    "• Print the largest and smallest numbers from the list"
   ]
  },
  {
   "cell_type": "code",
   "execution_count": 75,
   "metadata": {},
   "outputs": [
    {
     "ename": "TypeError",
     "evalue": "'int' object is not callable",
     "output_type": "error",
     "traceback": [
      "\u001b[1;31m---------------------------------------------------------------------------\u001b[0m",
      "\u001b[1;31mTypeError\u001b[0m                                 Traceback (most recent call last)",
      "Cell \u001b[1;32mIn[75], line 9\u001b[0m\n\u001b[0;32m      6\u001b[0m         \u001b[38;5;28mprint\u001b[39m(\u001b[38;5;124mf\u001b[39m\u001b[38;5;124m\"\u001b[39m\u001b[38;5;124mplease enter a valid number! error:\u001b[39m\u001b[38;5;132;01m{\u001b[39;00m\u001b[38;5;28mtype\u001b[39m(e)\u001b[38;5;132;01m}\u001b[39;00m\u001b[38;5;132;01m{\u001b[39;00me\u001b[38;5;132;01m}\u001b[39;00m\u001b[38;5;124m\"\u001b[39m)\n\u001b[0;32m      8\u001b[0m \u001b[38;5;28;01mif\u001b[39;00m numbers_list:  \u001b[38;5;66;03m# Check if the list is not empty\u001b[39;00m\n\u001b[1;32m----> 9\u001b[0m     averagge \u001b[38;5;241m=\u001b[39m \u001b[38;5;28;43msum\u001b[39;49m\u001b[43m(\u001b[49m\u001b[43mnumbers_list\u001b[49m\u001b[43m)\u001b[49m \u001b[38;5;241m/\u001b[39m \u001b[38;5;28mlen\u001b[39m(numbers_list)\n\u001b[0;32m     10\u001b[0m     \u001b[38;5;28mprint\u001b[39m(\u001b[38;5;124mf\u001b[39m\u001b[38;5;124m\"\u001b[39m\u001b[38;5;124mthe avg is \u001b[39m\u001b[38;5;132;01m{\u001b[39;00maverage\u001b[38;5;132;01m}\u001b[39;00m\u001b[38;5;124m\"\u001b[39m)\n\u001b[0;32m     11\u001b[0m     \u001b[38;5;28mprint\u001b[39m(\u001b[38;5;124mf\u001b[39m\u001b[38;5;124m\"\u001b[39m\u001b[38;5;124mthe max is \u001b[39m\u001b[38;5;132;01m{\u001b[39;00m\u001b[38;5;28mmax\u001b[39m(numbers_list)\u001b[38;5;132;01m}\u001b[39;00m\u001b[38;5;124m\"\u001b[39m)\n",
      "\u001b[1;31mTypeError\u001b[0m: 'int' object is not callable"
     ]
    }
   ],
   "source": [
    "numbers_list = []\n",
    "for i in range(5):\n",
    "    try:\n",
    "        numbers_list.append(float(input(f\"enter number {i+1}: \")))\n",
    "    except Exception as e:\n",
    "        print(f\"please enter a valid number! error:{type(e)}{e}\")\n",
    "\n",
    "if numbers_list:  # Check if the list is not empty\n",
    "    averagge = sum(numbers_list) / len(numbers_list)\n",
    "    print(f\"the avg is {average}\")\n",
    "    print(f\"the max is {max(numbers_list)}\")\n",
    "    print(f\"the min is {min(numbers_list)}\")\n",
    "else:\n",
    "    print(\"No valid numbers entered.\")"
   ]
  }
 ],
 "metadata": {
  "kernelspec": {
   "display_name": "Python 3",
   "language": "python",
   "name": "python3"
  },
  "language_info": {
   "codemirror_mode": {
    "name": "ipython",
    "version": 3
   },
   "file_extension": ".py",
   "mimetype": "text/x-python",
   "name": "python",
   "nbconvert_exporter": "python",
   "pygments_lexer": "ipython3",
   "version": "3.13.0"
  }
 },
 "nbformat": 4,
 "nbformat_minor": 2
}
