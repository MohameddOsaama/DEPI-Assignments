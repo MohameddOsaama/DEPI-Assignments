{
 "cells": [
  {
   "cell_type": "markdown",
   "metadata": {},
   "source": [
    "# Assignment 1\n",
    "# Python Basics Exam"
   ]
  },
  {
   "cell_type": "markdown",
   "metadata": {},
   "source": [
    "# Section 1: Printing Messages\n",
    "1. Write a Python program to print the following message on the screen:\n",
    "\"Hello, Python learners! Today we start our coding journey.\""
   ]
  },
  {
   "cell_type": "code",
   "execution_count": 2,
   "metadata": {},
   "outputs": [
    {
     "name": "stdout",
     "output_type": "stream",
     "text": [
      "Hello, Python learners! Today we start our coding journey.\n"
     ]
    }
   ],
   "source": [
    "print (\"Hello, Python learners! Today we start our coding journey.\")"
   ]
  },
  {
   "cell_type": "markdown",
   "metadata": {},
   "source": [
    "2. Challenge: Print a multi-line message using triple quotes that includes your name and favorite programming language."
   ]
  },
  {
   "cell_type": "code",
   "execution_count": 6,
   "metadata": {},
   "outputs": [
    {
     "name": "stdout",
     "output_type": "stream",
     "text": [
      "My name is Mohamed Osama\n",
      "and my favorite programming language is Python.\n"
     ]
    }
   ],
   "source": [
    "print ('''My name is Mohamed Osama\n",
    "and my favorite programming language is Python.''')"
   ]
  },
  {
   "cell_type": "markdown",
   "metadata": {},
   "source": [
    "# Section 2: Variables and Data Types"
   ]
  },
  {
   "cell_type": "markdown",
   "metadata": {},
   "source": [
    "1. Create a variable called age and assign it your age. Print a message that says, \"I am \n",
    "[age] years old.\""
   ]
  },
  {
   "cell_type": "code",
   "execution_count": 11,
   "metadata": {},
   "outputs": [
    {
     "name": "stdout",
     "output_type": "stream",
     "text": [
      "I am 20 years old.\n"
     ]
    }
   ],
   "source": [
    "Age = 20\n",
    "print (f\"I am {Age} years old.\")"
   ]
  },
  {
   "cell_type": "markdown",
   "metadata": {},
   "source": [
    "2. Challenge: Create three variables of different data types (integer, float, and string). Print \n",
    "each variable with a description of its data type."
   ]
  },
  {
   "cell_type": "code",
   "execution_count": 15,
   "metadata": {},
   "outputs": [
    {
     "name": "stdout",
     "output_type": "stream",
     "text": [
      "This is an Integer: 7 \n",
      "This is a Float: 7.0\n",
      "This is a String: Seven\n"
     ]
    }
   ],
   "source": [
    "Integer = 7\n",
    "Float = 7.0\n",
    "String = \"Seven\"\n",
    "print (f'''This is an Integer: {Integer} \n",
    "This is a Float: {Float}\n",
    "This is a String: {String}''')"
   ]
  },
  {
   "cell_type": "markdown",
   "metadata": {},
   "source": [
    "# Section 3: Working with Strings"
   ]
  },
  {
   "cell_type": "markdown",
   "metadata": {},
   "source": [
    "1. Given the string text = \"Python is amazing\", write a program to extract and print the \n",
    "word \"amazing\" from it."
   ]
  },
  {
   "cell_type": "code",
   "execution_count": 23,
   "metadata": {},
   "outputs": [
    {
     "name": "stdout",
     "output_type": "stream",
     "text": [
      "amazing\n"
     ]
    }
   ],
   "source": [
    "A = \"Python is amazing\"\n",
    "print (A[-7:])"
   ]
  },
  {
   "cell_type": "markdown",
   "metadata": {},
   "source": [
    "2. Challenge: Concatenate two strings, first_name and last_name, with a space in between, and \n",
    "print the full name in uppercase."
   ]
  },
  {
   "cell_type": "code",
   "execution_count": 36,
   "metadata": {},
   "outputs": [
    {
     "name": "stdout",
     "output_type": "stream",
     "text": [
      "MOHAMED OSAMA\n"
     ]
    }
   ],
   "source": [
    "first_name = \"Mohamed\"\n",
    "last_name = \"Osama\"\n",
    "print (first_name.upper() +\" \"+ last_name.upper())"
   ]
  },
  {
   "cell_type": "markdown",
   "metadata": {},
   "source": [
    "# Section 4: Basic Operations"
   ]
  },
  {
   "cell_type": "markdown",
   "metadata": {},
   "source": [
    "1. Write a program to calculate the area of a rectangle with a width of 5 and a height of \n",
    "10 "
   ]
  },
  {
   "cell_type": "code",
   "execution_count": 46,
   "metadata": {},
   "outputs": [
    {
     "name": "stdout",
     "output_type": "stream",
     "text": [
      "The area of this rectangle is: 50\n"
     ]
    }
   ],
   "source": [
    "width = 5\n",
    "height = 10\n",
    "area = width * height\n",
    "print (f\"The area of this rectangle is: {area}\")\n"
   ]
  },
  {
   "cell_type": "markdown",
   "metadata": {},
   "source": [
    "2. Challenge: Create two numbers, a = 20 and b = 7, and print the result of each arithmetic \n",
    "operation: addition, subtraction, multiplication, division, and modulo."
   ]
  },
  {
   "cell_type": "code",
   "execution_count": 49,
   "metadata": {},
   "outputs": [
    {
     "name": "stdout",
     "output_type": "stream",
     "text": [
      "27\n",
      "13\n",
      "140\n",
      "6\n"
     ]
    }
   ],
   "source": [
    "a = 20\n",
    "b = 7\n",
    "#Addition\n",
    "print (a + b)\n",
    "#Subtraction\n",
    "print ( a - b)\n",
    "#Multiplication\n",
    "print (a * b)\n",
    "#Modulo\n",
    "print (a % b)"
   ]
  },
  {
   "cell_type": "markdown",
   "metadata": {},
   "source": [
    "# Section 5: Lists and Tuples"
   ]
  },
  {
   "cell_type": "markdown",
   "metadata": {},
   "source": [
    "1. Create a list of five of your favorite foods. Print the entire list, then print the third \n",
    "item in the list."
   ]
  },
  {
   "cell_type": "code",
   "execution_count": 54,
   "metadata": {},
   "outputs": [
    {
     "name": "stdout",
     "output_type": "stream",
     "text": [
      "['pizza', 'pasta', 'burger', 'sushi', 'shrimp']\n",
      "burger\n"
     ]
    }
   ],
   "source": [
    "favorite_food = ['pizza' , 'pasta' , 'burger' , 'sushi' , 'shrimp']\n",
    "print (favorite_food)\n",
    "print (favorite_food[2])"
   ]
  },
  {
   "cell_type": "markdown",
   "metadata": {},
   "source": [
    "2. Challenge: Convert the list into a tuple, and try to change the first item in the tuple. Observe \n",
    "and explain the result."
   ]
  },
  {
   "cell_type": "code",
   "execution_count": null,
   "metadata": {},
   "outputs": [
    {
     "ename": "TypeError",
     "evalue": "'tuple' object does not support item assignment",
     "output_type": "error",
     "traceback": [
      "\u001b[1;31m---------------------------------------------------------------------------\u001b[0m",
      "\u001b[1;31mTypeError\u001b[0m                                 Traceback (most recent call last)",
      "Cell \u001b[1;32mIn[63], line 3\u001b[0m\n\u001b[0;32m      1\u001b[0m favorite_food \u001b[38;5;241m=\u001b[39m [\u001b[38;5;124m'\u001b[39m\u001b[38;5;124mpizza\u001b[39m\u001b[38;5;124m'\u001b[39m , \u001b[38;5;124m'\u001b[39m\u001b[38;5;124mpasta\u001b[39m\u001b[38;5;124m'\u001b[39m , \u001b[38;5;124m'\u001b[39m\u001b[38;5;124mburger\u001b[39m\u001b[38;5;124m'\u001b[39m , \u001b[38;5;124m'\u001b[39m\u001b[38;5;124msushi\u001b[39m\u001b[38;5;124m'\u001b[39m , \u001b[38;5;124m'\u001b[39m\u001b[38;5;124mshrimp\u001b[39m\u001b[38;5;124m'\u001b[39m]\n\u001b[0;32m      2\u001b[0m favorite_food_t \u001b[38;5;241m=\u001b[39m \u001b[38;5;28mtuple\u001b[39m(favorite_food)\n\u001b[1;32m----> 3\u001b[0m \u001b[43mfavorite_food_t\u001b[49m\u001b[43m[\u001b[49m\u001b[38;5;241;43m0\u001b[39;49m\u001b[43m]\u001b[49m \u001b[38;5;241m=\u001b[39m \u001b[38;5;124m'\u001b[39m\u001b[38;5;124mchicken\u001b[39m\u001b[38;5;124m'\u001b[39m\n\u001b[0;32m      4\u001b[0m \u001b[38;5;28mprint\u001b[39m (favorite_food_t)\n",
      "\u001b[1;31mTypeError\u001b[0m: 'tuple' object does not support item assignment"
     ]
    }
   ],
   "source": [
    "favorite_food = ['pizza' , 'pasta' , 'burger' , 'sushi' , 'shrimp']\n",
    "favorite_food_t = tuple(favorite_food)\n",
    "favorite_food_t[0] = 'chicken'\n",
    "print (favorite_food_t)\n",
    "#this will results in an error as tuples is not immutable means that we can't change any element in it."
   ]
  },
  {
   "cell_type": "markdown",
   "metadata": {},
   "source": [
    "# Section 6: String Manipulation and Slicing"
   ]
  },
  {
   "cell_type": "markdown",
   "metadata": {},
   "source": [
    "1. Given the string sentence = \"Learning Python is fun!\", write a program to slice and \n",
    "print the word \"Python\" from it."
   ]
  },
  {
   "cell_type": "code",
   "execution_count": 64,
   "metadata": {},
   "outputs": [
    {
     "name": "stdout",
     "output_type": "stream",
     "text": [
      "Python\n"
     ]
    }
   ],
   "source": [
    "A = \"Learning Python is fun!\"\n",
    "print (A[9:15])"
   ]
  },
  {
   "cell_type": "markdown",
   "metadata": {},
   "source": [
    "2. Challenge: Replace the word \"fun\" with \"awesome\" in the sentence and print the new \n",
    "sentence."
   ]
  },
  {
   "cell_type": "code",
   "execution_count": 67,
   "metadata": {},
   "outputs": [
    {
     "name": "stdout",
     "output_type": "stream",
     "text": [
      "Learning Python is awesome!\n"
     ]
    }
   ],
   "source": [
    "A_new = A.replace(\"fun\" , \"awesome\")\n",
    "print (A_new)"
   ]
  },
  {
   "cell_type": "markdown",
   "metadata": {},
   "source": [
    "# Section 7: Dictionaries"
   ]
  },
  {
   "cell_type": "markdown",
   "metadata": {},
   "source": [
    "1. Create a dictionary called student with the keys name, age, and grade. Assign values \n",
    "to each key and print the dictionary."
   ]
  },
  {
   "cell_type": "code",
   "execution_count": 69,
   "metadata": {},
   "outputs": [
    {
     "name": "stdout",
     "output_type": "stream",
     "text": [
      "{'name': 'Mohamed', 'age': '20', 'grade': '3'}\n"
     ]
    }
   ],
   "source": [
    "student = {\"name\":\"Mohamed\" , \"age\":\"20\" , \"grade\":\"3\"}\n",
    "print (student)"
   ]
  },
  {
   "cell_type": "markdown",
   "metadata": {},
   "source": [
    "2. Challenge: Add a new key city to the dictionary and set it to any city name. Print the \n",
    "updated dictionary."
   ]
  },
  {
   "cell_type": "code",
   "execution_count": 71,
   "metadata": {},
   "outputs": [
    {
     "name": "stdout",
     "output_type": "stream",
     "text": [
      "{'name': 'Mohamed', 'age': '20', 'grade': '3', 'city': 'cairo'}\n"
     ]
    }
   ],
   "source": [
    "student[\"city\"] = \"cairo\"\n",
    "print (student)"
   ]
  },
  {
   "cell_type": "markdown",
   "metadata": {},
   "source": [
    "# Section8: Basic Arithmetic Operations"
   ]
  },
  {
   "cell_type": "markdown",
   "metadata": {},
   "source": [
    "1. Write a program that takes two numbers from the user and prints their sum, \n",
    "difference, product, and division result."
   ]
  },
  {
   "cell_type": "code",
   "execution_count": 79,
   "metadata": {},
   "outputs": [
    {
     "name": "stdout",
     "output_type": "stream",
     "text": [
      "the sum of the two numbers is: 90.0\n",
      "the difference of the two numbers is: 72.0\n",
      "the product of the two numbers is: 729.0\n",
      "the division of the two numbers is: 9.0\n"
     ]
    }
   ],
   "source": [
    "first_number = float(input(\"Enter a number: \"))\n",
    "second_number = float(input(\"Enter another number: \"))\n",
    "print (\"the sum of the two numbers is:\" , first_number + second_number)\n",
    "print (\"the difference of the two numbers is:\" , first_number - second_number)\n",
    "print (\"the product of the two numbers is:\" , first_number * second_number)\n",
    "print (\"the division of the two numbers is:\" , first_number / second_number)"
   ]
  },
  {
   "cell_type": "markdown",
   "metadata": {},
   "source": [
    "2. Challenge: Use the modulo operator to check if the first number is divisible by the second \n",
    "number, and print the result as \"Divisible\" or \"Not Divisible\""
   ]
  },
  {
   "cell_type": "code",
   "execution_count": 81,
   "metadata": {},
   "outputs": [
    {
     "name": "stdout",
     "output_type": "stream",
     "text": [
      "Divisible\n"
     ]
    }
   ],
   "source": [
    "if first_number % second_number == 0:\n",
    "    print (\"Divisible\")\n",
    "else:\n",
    "    print (\"Not Divisible\")"
   ]
  }
 ],
 "metadata": {
  "kernelspec": {
   "display_name": "Python 3",
   "language": "python",
   "name": "python3"
  },
  "language_info": {
   "codemirror_mode": {
    "name": "ipython",
    "version": 3
   },
   "file_extension": ".py",
   "mimetype": "text/x-python",
   "name": "python",
   "nbconvert_exporter": "python",
   "pygments_lexer": "ipython3",
   "version": "3.13.0"
  }
 },
 "nbformat": 4,
 "nbformat_minor": 2
}
